{
 "cells": [
  {
   "cell_type": "markdown",
   "id": "afb2cdae-bdf5-4ce5-9f9e-8bb6644a27ff",
   "metadata": {},
   "source": [
    "# Data Visulaization 2 -  Assignment\n",
    "\n",
    "About the dataset:\n",
    "\n",
    "\n",
    "\n",
    "Source: https://www.kaggle.com/datasets/fernandol/countries-of-the-world/\n",
    "\n",
    "\n"
   ]
  },
  {
   "cell_type": "code",
   "execution_count": 3,
   "id": "95076546-f28a-4da8-b54f-dde84fe6a1a7",
   "metadata": {},
   "outputs": [],
   "source": [
    "# Importing required libraries\n",
    "import pandas as pd\n",
    "from dash import Dash \n",
    "# dcc includes Graphs\n",
    "from dash import html, dcc \n",
    "# for the interactive part:\n",
    "from dash import callback, Output, Input\n",
    "import plotly.express as px"
   ]
  },
  {
   "cell_type": "code",
   "execution_count": 20,
   "id": "dfad7cad-f90f-4b6f-adb2-b9023dccc179",
   "metadata": {
    "tags": []
   },
   "outputs": [
    {
     "data": {
      "text/html": [
       "<div>\n",
       "<style scoped>\n",
       "    .dataframe tbody tr th:only-of-type {\n",
       "        vertical-align: middle;\n",
       "    }\n",
       "\n",
       "    .dataframe tbody tr th {\n",
       "        vertical-align: top;\n",
       "    }\n",
       "\n",
       "    .dataframe thead th {\n",
       "        text-align: right;\n",
       "    }\n",
       "</style>\n",
       "<table border=\"1\" class=\"dataframe\">\n",
       "  <thead>\n",
       "    <tr style=\"text-align: right;\">\n",
       "      <th></th>\n",
       "      <th>Country</th>\n",
       "      <th>Region</th>\n",
       "      <th>Population</th>\n",
       "      <th>Area (sq. mi.)</th>\n",
       "      <th>Pop. Density (per sq. mi.)</th>\n",
       "      <th>Coastline (coast/area ratio)</th>\n",
       "      <th>Net migration</th>\n",
       "      <th>Infant mortality (per 1000 births)</th>\n",
       "      <th>GDP ($ per capita)</th>\n",
       "      <th>Literacy (%)</th>\n",
       "      <th>Phones (per 1000)</th>\n",
       "      <th>Arable (%)</th>\n",
       "      <th>Crops (%)</th>\n",
       "      <th>Other (%)</th>\n",
       "      <th>Climate</th>\n",
       "      <th>Birthrate</th>\n",
       "      <th>Deathrate</th>\n",
       "      <th>Agriculture</th>\n",
       "      <th>Industry</th>\n",
       "      <th>Service</th>\n",
       "    </tr>\n",
       "  </thead>\n",
       "  <tbody>\n",
       "    <tr>\n",
       "      <th>0</th>\n",
       "      <td>Afghanistan</td>\n",
       "      <td>ASIA (EX. NEAR EAST)</td>\n",
       "      <td>31056997</td>\n",
       "      <td>647500</td>\n",
       "      <td>48,0</td>\n",
       "      <td>0,00</td>\n",
       "      <td>23,06</td>\n",
       "      <td>163,07</td>\n",
       "      <td>700.0</td>\n",
       "      <td>36,0</td>\n",
       "      <td>3,2</td>\n",
       "      <td>12,13</td>\n",
       "      <td>0,22</td>\n",
       "      <td>87,65</td>\n",
       "      <td>1</td>\n",
       "      <td>46,6</td>\n",
       "      <td>20,34</td>\n",
       "      <td>0,38</td>\n",
       "      <td>0,24</td>\n",
       "      <td>0,38</td>\n",
       "    </tr>\n",
       "    <tr>\n",
       "      <th>1</th>\n",
       "      <td>Albania</td>\n",
       "      <td>EASTERN EUROPE</td>\n",
       "      <td>3581655</td>\n",
       "      <td>28748</td>\n",
       "      <td>124,6</td>\n",
       "      <td>1,26</td>\n",
       "      <td>-4,93</td>\n",
       "      <td>21,52</td>\n",
       "      <td>4500.0</td>\n",
       "      <td>86,5</td>\n",
       "      <td>71,2</td>\n",
       "      <td>21,09</td>\n",
       "      <td>4,42</td>\n",
       "      <td>74,49</td>\n",
       "      <td>3</td>\n",
       "      <td>15,11</td>\n",
       "      <td>5,22</td>\n",
       "      <td>0,232</td>\n",
       "      <td>0,188</td>\n",
       "      <td>0,579</td>\n",
       "    </tr>\n",
       "    <tr>\n",
       "      <th>2</th>\n",
       "      <td>Algeria</td>\n",
       "      <td>NORTHERN AFRICA</td>\n",
       "      <td>32930091</td>\n",
       "      <td>2381740</td>\n",
       "      <td>13,8</td>\n",
       "      <td>0,04</td>\n",
       "      <td>-0,39</td>\n",
       "      <td>31</td>\n",
       "      <td>6000.0</td>\n",
       "      <td>70,0</td>\n",
       "      <td>78,1</td>\n",
       "      <td>3,22</td>\n",
       "      <td>0,25</td>\n",
       "      <td>96,53</td>\n",
       "      <td>1</td>\n",
       "      <td>17,14</td>\n",
       "      <td>4,61</td>\n",
       "      <td>0,101</td>\n",
       "      <td>0,6</td>\n",
       "      <td>0,298</td>\n",
       "    </tr>\n",
       "    <tr>\n",
       "      <th>3</th>\n",
       "      <td>American Samoa</td>\n",
       "      <td>OCEANIA</td>\n",
       "      <td>57794</td>\n",
       "      <td>199</td>\n",
       "      <td>290,4</td>\n",
       "      <td>58,29</td>\n",
       "      <td>-20,71</td>\n",
       "      <td>9,27</td>\n",
       "      <td>8000.0</td>\n",
       "      <td>97,0</td>\n",
       "      <td>259,5</td>\n",
       "      <td>10</td>\n",
       "      <td>15</td>\n",
       "      <td>75</td>\n",
       "      <td>2</td>\n",
       "      <td>22,46</td>\n",
       "      <td>3,27</td>\n",
       "      <td>NaN</td>\n",
       "      <td>NaN</td>\n",
       "      <td>NaN</td>\n",
       "    </tr>\n",
       "    <tr>\n",
       "      <th>4</th>\n",
       "      <td>Andorra</td>\n",
       "      <td>WESTERN EUROPE</td>\n",
       "      <td>71201</td>\n",
       "      <td>468</td>\n",
       "      <td>152,1</td>\n",
       "      <td>0,00</td>\n",
       "      <td>6,6</td>\n",
       "      <td>4,05</td>\n",
       "      <td>19000.0</td>\n",
       "      <td>100,0</td>\n",
       "      <td>497,2</td>\n",
       "      <td>2,22</td>\n",
       "      <td>0</td>\n",
       "      <td>97,78</td>\n",
       "      <td>3</td>\n",
       "      <td>8,71</td>\n",
       "      <td>6,25</td>\n",
       "      <td>NaN</td>\n",
       "      <td>NaN</td>\n",
       "      <td>NaN</td>\n",
       "    </tr>\n",
       "  </tbody>\n",
       "</table>\n",
       "</div>"
      ],
      "text/plain": [
       "           Country                               Region  Population  \\\n",
       "0     Afghanistan         ASIA (EX. NEAR EAST)             31056997   \n",
       "1         Albania   EASTERN EUROPE                          3581655   \n",
       "2         Algeria   NORTHERN AFRICA                        32930091   \n",
       "3  American Samoa   OCEANIA                                   57794   \n",
       "4         Andorra   WESTERN EUROPE                            71201   \n",
       "\n",
       "   Area (sq. mi.) Pop. Density (per sq. mi.) Coastline (coast/area ratio)  \\\n",
       "0          647500                       48,0                         0,00   \n",
       "1           28748                      124,6                         1,26   \n",
       "2         2381740                       13,8                         0,04   \n",
       "3             199                      290,4                        58,29   \n",
       "4             468                      152,1                         0,00   \n",
       "\n",
       "  Net migration Infant mortality (per 1000 births)  GDP ($ per capita)  \\\n",
       "0         23,06                             163,07               700.0   \n",
       "1         -4,93                              21,52              4500.0   \n",
       "2         -0,39                                 31              6000.0   \n",
       "3        -20,71                               9,27              8000.0   \n",
       "4           6,6                               4,05             19000.0   \n",
       "\n",
       "  Literacy (%) Phones (per 1000) Arable (%) Crops (%) Other (%) Climate  \\\n",
       "0         36,0               3,2      12,13      0,22     87,65       1   \n",
       "1         86,5              71,2      21,09      4,42     74,49       3   \n",
       "2         70,0              78,1       3,22      0,25     96,53       1   \n",
       "3         97,0             259,5         10        15        75       2   \n",
       "4        100,0             497,2       2,22         0     97,78       3   \n",
       "\n",
       "  Birthrate Deathrate Agriculture Industry Service  \n",
       "0      46,6     20,34        0,38     0,24    0,38  \n",
       "1     15,11      5,22       0,232    0,188   0,579  \n",
       "2     17,14      4,61       0,101      0,6   0,298  \n",
       "3     22,46      3,27         NaN      NaN     NaN  \n",
       "4      8,71      6,25         NaN      NaN     NaN  "
      ]
     },
     "execution_count": 20,
     "metadata": {},
     "output_type": "execute_result"
    }
   ],
   "source": [
    "# Importing the dataset\n",
    "df = pd.read_csv('https://raw.githubusercontent.com/zsofiarebeka/DataViz2/main/countries%20of%20the%20world.csv')\n",
    "\n",
    "# checking it out\n",
    "df.head()"
   ]
  },
  {
   "cell_type": "code",
   "execution_count": 21,
   "id": "273c1710-50b6-418f-b454-5f4ea0b9e710",
   "metadata": {
    "tags": []
   },
   "outputs": [
    {
     "data": {
      "text/plain": [
       "Afghanistan     1\n",
       "Rwanda          1\n",
       "Nauru           1\n",
       "Nepal           1\n",
       "Netherlands     1\n",
       "               ..\n",
       "Greece          1\n",
       "Greenland       1\n",
       "Grenada         1\n",
       "Guadeloupe      1\n",
       "Zimbabwe        1\n",
       "Name: Country, Length: 227, dtype: int64"
      ]
     },
     "execution_count": 21,
     "metadata": {},
     "output_type": "execute_result"
    }
   ],
   "source": [
    "df.Country.value_counts()"
   ]
  },
  {
   "cell_type": "code",
   "execution_count": 22,
   "id": "6936affb-dc69-43b6-b5fd-b0caf90157fa",
   "metadata": {
    "tags": []
   },
   "outputs": [
    {
     "data": {
      "text/plain": [
       "20,48    2\n",
       "18,02    2\n",
       "12,56    2\n",
       "18,79    2\n",
       "19,43    1\n",
       "        ..\n",
       "9,68     1\n",
       "15,93    1\n",
       "22,08    1\n",
       "15,05    1\n",
       "28,01    1\n",
       "Name: Birthrate, Length: 220, dtype: int64"
      ]
     },
     "execution_count": 22,
     "metadata": {},
     "output_type": "execute_result"
    }
   ],
   "source": [
    "df.Birthrate.value_counts()"
   ]
  },
  {
   "cell_type": "code",
   "execution_count": 23,
   "id": "c8e00f86-74c2-402c-9f9a-7834cee61a10",
   "metadata": {
    "tags": []
   },
   "outputs": [
    {
     "data": {
      "application/vnd.plotly.v1+json": {
       "config": {
        "plotlyServerURL": "https://plot.ly"
       },
       "data": [
        {
         "hovertemplate": "Region=%{x}<br>Population=%{y}<extra></extra>",
         "legendgroup": "",
         "marker": {
          "color": "#1F77B4",
          "symbol": "circle"
         },
         "mode": "markers",
         "name": "",
         "orientation": "v",
         "showlegend": false,
         "textposition": "top center",
         "type": "scatter",
         "x": [
          "ASIA (EX. NEAR EAST)         ",
          "EASTERN EUROPE                     ",
          "NORTHERN AFRICA                    ",
          "OCEANIA                            ",
          "WESTERN EUROPE                     ",
          "SUB-SAHARAN AFRICA                 ",
          "LATIN AMER. & CARIB    ",
          "LATIN AMER. & CARIB    ",
          "LATIN AMER. & CARIB    ",
          "C.W. OF IND. STATES ",
          "LATIN AMER. & CARIB    ",
          "OCEANIA                            ",
          "WESTERN EUROPE                     ",
          "C.W. OF IND. STATES ",
          "LATIN AMER. & CARIB    ",
          "NEAR EAST                          ",
          "ASIA (EX. NEAR EAST)         ",
          "LATIN AMER. & CARIB    ",
          "C.W. OF IND. STATES ",
          "WESTERN EUROPE                     ",
          "LATIN AMER. & CARIB    ",
          "SUB-SAHARAN AFRICA                 ",
          "NORTHERN AMERICA                   ",
          "ASIA (EX. NEAR EAST)         ",
          "LATIN AMER. & CARIB    ",
          "EASTERN EUROPE                     ",
          "SUB-SAHARAN AFRICA                 ",
          "LATIN AMER. & CARIB    ",
          "LATIN AMER. & CARIB    ",
          "ASIA (EX. NEAR EAST)         ",
          "EASTERN EUROPE                     ",
          "SUB-SAHARAN AFRICA                 ",
          "ASIA (EX. NEAR EAST)         ",
          "SUB-SAHARAN AFRICA                 ",
          "ASIA (EX. NEAR EAST)         ",
          "SUB-SAHARAN AFRICA                 ",
          "NORTHERN AMERICA                   ",
          "SUB-SAHARAN AFRICA                 ",
          "LATIN AMER. & CARIB    ",
          "SUB-SAHARAN AFRICA                 ",
          "SUB-SAHARAN AFRICA                 ",
          "LATIN AMER. & CARIB    ",
          "ASIA (EX. NEAR EAST)         ",
          "LATIN AMER. & CARIB    ",
          "SUB-SAHARAN AFRICA                 ",
          "SUB-SAHARAN AFRICA                 ",
          "SUB-SAHARAN AFRICA                 ",
          "OCEANIA                            ",
          "LATIN AMER. & CARIB    ",
          "SUB-SAHARAN AFRICA                 ",
          "EASTERN EUROPE                     ",
          "LATIN AMER. & CARIB    ",
          "NEAR EAST                          ",
          "EASTERN EUROPE                     ",
          "WESTERN EUROPE                     ",
          "SUB-SAHARAN AFRICA                 ",
          "LATIN AMER. & CARIB    ",
          "LATIN AMER. & CARIB    ",
          "ASIA (EX. NEAR EAST)         ",
          "LATIN AMER. & CARIB    ",
          "NORTHERN AFRICA                    ",
          "LATIN AMER. & CARIB    ",
          "SUB-SAHARAN AFRICA                 ",
          "SUB-SAHARAN AFRICA                 ",
          "BALTICS                            ",
          "SUB-SAHARAN AFRICA                 ",
          "WESTERN EUROPE                     ",
          "OCEANIA                            ",
          "WESTERN EUROPE                     ",
          "WESTERN EUROPE                     ",
          "LATIN AMER. & CARIB    ",
          "OCEANIA                            ",
          "SUB-SAHARAN AFRICA                 ",
          "SUB-SAHARAN AFRICA                 ",
          "NEAR EAST                          ",
          "C.W. OF IND. STATES ",
          "WESTERN EUROPE                     ",
          "SUB-SAHARAN AFRICA                 ",
          "WESTERN EUROPE                     ",
          "WESTERN EUROPE                     ",
          "NORTHERN AMERICA                   ",
          "LATIN AMER. & CARIB    ",
          "LATIN AMER. & CARIB    ",
          "OCEANIA                            ",
          "LATIN AMER. & CARIB    ",
          "WESTERN EUROPE                     ",
          "SUB-SAHARAN AFRICA                 ",
          "SUB-SAHARAN AFRICA                 ",
          "LATIN AMER. & CARIB    ",
          "LATIN AMER. & CARIB    ",
          "LATIN AMER. & CARIB    ",
          "ASIA (EX. NEAR EAST)         ",
          "EASTERN EUROPE                     ",
          "WESTERN EUROPE                     ",
          "ASIA (EX. NEAR EAST)         ",
          "ASIA (EX. NEAR EAST)         ",
          "ASIA (EX. NEAR EAST)         ",
          "NEAR EAST                          ",
          "WESTERN EUROPE                     ",
          "WESTERN EUROPE                     ",
          "NEAR EAST                          ",
          "WESTERN EUROPE                     ",
          "LATIN AMER. & CARIB    ",
          "ASIA (EX. NEAR EAST)         ",
          "WESTERN EUROPE                     ",
          "NEAR EAST                          ",
          "C.W. OF IND. STATES ",
          "SUB-SAHARAN AFRICA                 ",
          "OCEANIA                            ",
          "ASIA (EX. NEAR EAST)         ",
          "ASIA (EX. NEAR EAST)         ",
          "NEAR EAST                          ",
          "C.W. OF IND. STATES ",
          "ASIA (EX. NEAR EAST)         ",
          "BALTICS                            ",
          "NEAR EAST                          ",
          "SUB-SAHARAN AFRICA                 ",
          "SUB-SAHARAN AFRICA                 ",
          "NORTHERN AFRICA                    ",
          "WESTERN EUROPE                     ",
          "BALTICS                            ",
          "WESTERN EUROPE                     ",
          "ASIA (EX. NEAR EAST)         ",
          "EASTERN EUROPE                     ",
          "SUB-SAHARAN AFRICA                 ",
          "SUB-SAHARAN AFRICA                 ",
          "ASIA (EX. NEAR EAST)         ",
          "ASIA (EX. NEAR EAST)         ",
          "SUB-SAHARAN AFRICA                 ",
          "WESTERN EUROPE                     ",
          "OCEANIA                            ",
          "LATIN AMER. & CARIB    ",
          "SUB-SAHARAN AFRICA                 ",
          "SUB-SAHARAN AFRICA                 ",
          "SUB-SAHARAN AFRICA                 ",
          "LATIN AMER. & CARIB    ",
          "OCEANIA                            ",
          "C.W. OF IND. STATES ",
          "WESTERN EUROPE                     ",
          "ASIA (EX. NEAR EAST)         ",
          "LATIN AMER. & CARIB    ",
          "NORTHERN AFRICA                    ",
          "SUB-SAHARAN AFRICA                 ",
          "SUB-SAHARAN AFRICA                 ",
          "OCEANIA                            ",
          "ASIA (EX. NEAR EAST)         ",
          "WESTERN EUROPE                     ",
          "LATIN AMER. & CARIB    ",
          "OCEANIA                            ",
          "OCEANIA                            ",
          "LATIN AMER. & CARIB    ",
          "SUB-SAHARAN AFRICA                 ",
          "SUB-SAHARAN AFRICA                 ",
          "OCEANIA                            ",
          "WESTERN EUROPE                     ",
          "NEAR EAST                          ",
          "ASIA (EX. NEAR EAST)         ",
          "OCEANIA                            ",
          "LATIN AMER. & CARIB    ",
          "OCEANIA                            ",
          "LATIN AMER. & CARIB    ",
          "LATIN AMER. & CARIB    ",
          "ASIA (EX. NEAR EAST)         ",
          "EASTERN EUROPE                     ",
          "WESTERN EUROPE                     ",
          "LATIN AMER. & CARIB    ",
          "NEAR EAST                          ",
          "SUB-SAHARAN AFRICA                 ",
          "EASTERN EUROPE                     ",
          "C.W. OF IND. STATES ",
          "SUB-SAHARAN AFRICA                 ",
          "SUB-SAHARAN AFRICA                 ",
          "LATIN AMER. & CARIB    ",
          "LATIN AMER. & CARIB    ",
          "NORTHERN AMERICA                   ",
          "LATIN AMER. & CARIB    ",
          "OCEANIA                            ",
          "WESTERN EUROPE                     ",
          "SUB-SAHARAN AFRICA                 ",
          "NEAR EAST                          ",
          "SUB-SAHARAN AFRICA                 ",
          "EASTERN EUROPE                     ",
          "SUB-SAHARAN AFRICA                 ",
          "SUB-SAHARAN AFRICA                 ",
          "ASIA (EX. NEAR EAST)         ",
          "EASTERN EUROPE                     ",
          "EASTERN EUROPE                     ",
          "OCEANIA                            ",
          "SUB-SAHARAN AFRICA                 ",
          "SUB-SAHARAN AFRICA                 ",
          "WESTERN EUROPE                     ",
          "ASIA (EX. NEAR EAST)         ",
          "SUB-SAHARAN AFRICA                 ",
          "LATIN AMER. & CARIB    ",
          "SUB-SAHARAN AFRICA                 ",
          "WESTERN EUROPE                     ",
          "WESTERN EUROPE                     ",
          "NEAR EAST                          ",
          "ASIA (EX. NEAR EAST)         ",
          "C.W. OF IND. STATES ",
          "SUB-SAHARAN AFRICA                 ",
          "ASIA (EX. NEAR EAST)         ",
          "SUB-SAHARAN AFRICA                 ",
          "OCEANIA                            ",
          "LATIN AMER. & CARIB    ",
          "NORTHERN AFRICA                    ",
          "NEAR EAST                          ",
          "C.W. OF IND. STATES ",
          "LATIN AMER. & CARIB    ",
          "OCEANIA                            ",
          "SUB-SAHARAN AFRICA                 ",
          "C.W. OF IND. STATES ",
          "NEAR EAST                          ",
          "WESTERN EUROPE                     ",
          "NORTHERN AMERICA                   ",
          "LATIN AMER. & CARIB    ",
          "C.W. OF IND. STATES ",
          "OCEANIA                            ",
          "LATIN AMER. & CARIB    ",
          "ASIA (EX. NEAR EAST)         ",
          "LATIN AMER. & CARIB    ",
          "OCEANIA                            ",
          "NEAR EAST                          ",
          "NORTHERN AFRICA                    ",
          "NEAR EAST                          ",
          "SUB-SAHARAN AFRICA                 ",
          "SUB-SAHARAN AFRICA                 "
         ],
         "xaxis": "x",
         "y": [
          31056997,
          3581655,
          32930091,
          57794,
          71201,
          12127071,
          13477,
          69108,
          39921833,
          2976372,
          71891,
          20264082,
          8192880,
          7961619,
          303770,
          698585,
          147365352,
          279912,
          10293011,
          10379067,
          287730,
          7862944,
          65773,
          2279723,
          8989046,
          4498976,
          1639833,
          188078227,
          23098,
          379444,
          7385367,
          13902972,
          47382633,
          8090068,
          13881427,
          17340702,
          33098932,
          420979,
          45436,
          4303356,
          9944201,
          16134219,
          1313973713,
          43593035,
          690948,
          62660551,
          3702314,
          21388,
          4075261,
          17654843,
          4494749,
          11382820,
          784301,
          10235455,
          5450661,
          486530,
          68910,
          9183984,
          1062777,
          13547510,
          78887007,
          6822378,
          540109,
          4786994,
          1324333,
          74777981,
          47246,
          905949,
          5231372,
          60876136,
          199509,
          274578,
          1424906,
          1641564,
          1428757,
          4661473,
          82422299,
          22409572,
          27928,
          10688058,
          56361,
          89703,
          452776,
          171019,
          12293545,
          65409,
          9690222,
          1442029,
          767245,
          8308504,
          7326496,
          6940432,
          9981334,
          299388,
          1095351995,
          245452739,
          68688433,
          26783383,
          4062235,
          75441,
          6352117,
          58133509,
          2758124,
          127463611,
          91084,
          5906760,
          15233244,
          34707817,
          105432,
          23113019,
          48846823,
          2418393,
          5213898,
          6368481,
          2274735,
          3874050,
          2022331,
          3042004,
          5900754,
          33987,
          3585906,
          474413,
          453125,
          2050554,
          18595469,
          13013926,
          24385858,
          359008,
          11716829,
          400214,
          60422,
          436131,
          3177388,
          1240827,
          201234,
          107449525,
          108004,
          4466706,
          32543,
          2832224,
          9439,
          33241259,
          19686505,
          2044147,
          13287,
          28287147,
          16491461,
          221736,
          219246,
          4076140,
          5570129,
          12525094,
          131859731,
          82459,
          4610820,
          3102229,
          165803560,
          20579,
          3191319,
          5670544,
          6506464,
          28302603,
          89468677,
          38536869,
          10605870,
          3927188,
          885359,
          787584,
          22303552,
          142893540,
          8648248,
          7502,
          39129,
          168458,
          7026,
          117848,
          176908,
          29251,
          193413,
          27019731,
          11987121,
          9396411,
          81541,
          6005250,
          4492150,
          5439448,
          2010347,
          552438,
          8863338,
          44187637,
          40397842,
          20222240,
          41236378,
          439117,
          1136334,
          9016596,
          7523934,
          18881361,
          23036087,
          7320815,
          37445392,
          64631595,
          5548702,
          114689,
          1065842,
          10175014,
          70413958,
          5042920,
          21152,
          11810,
          28195754,
          46710816,
          2602713,
          60609153,
          298444215,
          3431932,
          27307134,
          208869,
          25730435,
          84402966,
          108605,
          16025,
          2460492,
          273008,
          21456188,
          11502010,
          12236805
         ],
         "yaxis": "y"
        }
       ],
       "layout": {
        "height": 700,
        "legend": {
         "tracegroupgap": 0
        },
        "template": {
         "data": {
          "bar": [
           {
            "error_x": {
             "color": "rgb(36,36,36)"
            },
            "error_y": {
             "color": "rgb(36,36,36)"
            },
            "marker": {
             "line": {
              "color": "white",
              "width": 0.5
             },
             "pattern": {
              "fillmode": "overlay",
              "size": 10,
              "solidity": 0.2
             }
            },
            "type": "bar"
           }
          ],
          "barpolar": [
           {
            "marker": {
             "line": {
              "color": "white",
              "width": 0.5
             },
             "pattern": {
              "fillmode": "overlay",
              "size": 10,
              "solidity": 0.2
             }
            },
            "type": "barpolar"
           }
          ],
          "carpet": [
           {
            "aaxis": {
             "endlinecolor": "rgb(36,36,36)",
             "gridcolor": "white",
             "linecolor": "white",
             "minorgridcolor": "white",
             "startlinecolor": "rgb(36,36,36)"
            },
            "baxis": {
             "endlinecolor": "rgb(36,36,36)",
             "gridcolor": "white",
             "linecolor": "white",
             "minorgridcolor": "white",
             "startlinecolor": "rgb(36,36,36)"
            },
            "type": "carpet"
           }
          ],
          "choropleth": [
           {
            "colorbar": {
             "outlinewidth": 1,
             "tickcolor": "rgb(36,36,36)",
             "ticks": "outside"
            },
            "type": "choropleth"
           }
          ],
          "contour": [
           {
            "colorbar": {
             "outlinewidth": 1,
             "tickcolor": "rgb(36,36,36)",
             "ticks": "outside"
            },
            "colorscale": [
             [
              0,
              "#440154"
             ],
             [
              0.1111111111111111,
              "#482878"
             ],
             [
              0.2222222222222222,
              "#3e4989"
             ],
             [
              0.3333333333333333,
              "#31688e"
             ],
             [
              0.4444444444444444,
              "#26828e"
             ],
             [
              0.5555555555555556,
              "#1f9e89"
             ],
             [
              0.6666666666666666,
              "#35b779"
             ],
             [
              0.7777777777777778,
              "#6ece58"
             ],
             [
              0.8888888888888888,
              "#b5de2b"
             ],
             [
              1,
              "#fde725"
             ]
            ],
            "type": "contour"
           }
          ],
          "contourcarpet": [
           {
            "colorbar": {
             "outlinewidth": 1,
             "tickcolor": "rgb(36,36,36)",
             "ticks": "outside"
            },
            "type": "contourcarpet"
           }
          ],
          "heatmap": [
           {
            "colorbar": {
             "outlinewidth": 1,
             "tickcolor": "rgb(36,36,36)",
             "ticks": "outside"
            },
            "colorscale": [
             [
              0,
              "#440154"
             ],
             [
              0.1111111111111111,
              "#482878"
             ],
             [
              0.2222222222222222,
              "#3e4989"
             ],
             [
              0.3333333333333333,
              "#31688e"
             ],
             [
              0.4444444444444444,
              "#26828e"
             ],
             [
              0.5555555555555556,
              "#1f9e89"
             ],
             [
              0.6666666666666666,
              "#35b779"
             ],
             [
              0.7777777777777778,
              "#6ece58"
             ],
             [
              0.8888888888888888,
              "#b5de2b"
             ],
             [
              1,
              "#fde725"
             ]
            ],
            "type": "heatmap"
           }
          ],
          "heatmapgl": [
           {
            "colorbar": {
             "outlinewidth": 1,
             "tickcolor": "rgb(36,36,36)",
             "ticks": "outside"
            },
            "colorscale": [
             [
              0,
              "#440154"
             ],
             [
              0.1111111111111111,
              "#482878"
             ],
             [
              0.2222222222222222,
              "#3e4989"
             ],
             [
              0.3333333333333333,
              "#31688e"
             ],
             [
              0.4444444444444444,
              "#26828e"
             ],
             [
              0.5555555555555556,
              "#1f9e89"
             ],
             [
              0.6666666666666666,
              "#35b779"
             ],
             [
              0.7777777777777778,
              "#6ece58"
             ],
             [
              0.8888888888888888,
              "#b5de2b"
             ],
             [
              1,
              "#fde725"
             ]
            ],
            "type": "heatmapgl"
           }
          ],
          "histogram": [
           {
            "marker": {
             "line": {
              "color": "white",
              "width": 0.6
             }
            },
            "type": "histogram"
           }
          ],
          "histogram2d": [
           {
            "colorbar": {
             "outlinewidth": 1,
             "tickcolor": "rgb(36,36,36)",
             "ticks": "outside"
            },
            "colorscale": [
             [
              0,
              "#440154"
             ],
             [
              0.1111111111111111,
              "#482878"
             ],
             [
              0.2222222222222222,
              "#3e4989"
             ],
             [
              0.3333333333333333,
              "#31688e"
             ],
             [
              0.4444444444444444,
              "#26828e"
             ],
             [
              0.5555555555555556,
              "#1f9e89"
             ],
             [
              0.6666666666666666,
              "#35b779"
             ],
             [
              0.7777777777777778,
              "#6ece58"
             ],
             [
              0.8888888888888888,
              "#b5de2b"
             ],
             [
              1,
              "#fde725"
             ]
            ],
            "type": "histogram2d"
           }
          ],
          "histogram2dcontour": [
           {
            "colorbar": {
             "outlinewidth": 1,
             "tickcolor": "rgb(36,36,36)",
             "ticks": "outside"
            },
            "colorscale": [
             [
              0,
              "#440154"
             ],
             [
              0.1111111111111111,
              "#482878"
             ],
             [
              0.2222222222222222,
              "#3e4989"
             ],
             [
              0.3333333333333333,
              "#31688e"
             ],
             [
              0.4444444444444444,
              "#26828e"
             ],
             [
              0.5555555555555556,
              "#1f9e89"
             ],
             [
              0.6666666666666666,
              "#35b779"
             ],
             [
              0.7777777777777778,
              "#6ece58"
             ],
             [
              0.8888888888888888,
              "#b5de2b"
             ],
             [
              1,
              "#fde725"
             ]
            ],
            "type": "histogram2dcontour"
           }
          ],
          "mesh3d": [
           {
            "colorbar": {
             "outlinewidth": 1,
             "tickcolor": "rgb(36,36,36)",
             "ticks": "outside"
            },
            "type": "mesh3d"
           }
          ],
          "parcoords": [
           {
            "line": {
             "colorbar": {
              "outlinewidth": 1,
              "tickcolor": "rgb(36,36,36)",
              "ticks": "outside"
             }
            },
            "type": "parcoords"
           }
          ],
          "pie": [
           {
            "automargin": true,
            "type": "pie"
           }
          ],
          "scatter": [
           {
            "fillpattern": {
             "fillmode": "overlay",
             "size": 10,
             "solidity": 0.2
            },
            "type": "scatter"
           }
          ],
          "scatter3d": [
           {
            "line": {
             "colorbar": {
              "outlinewidth": 1,
              "tickcolor": "rgb(36,36,36)",
              "ticks": "outside"
             }
            },
            "marker": {
             "colorbar": {
              "outlinewidth": 1,
              "tickcolor": "rgb(36,36,36)",
              "ticks": "outside"
             }
            },
            "type": "scatter3d"
           }
          ],
          "scattercarpet": [
           {
            "marker": {
             "colorbar": {
              "outlinewidth": 1,
              "tickcolor": "rgb(36,36,36)",
              "ticks": "outside"
             }
            },
            "type": "scattercarpet"
           }
          ],
          "scattergeo": [
           {
            "marker": {
             "colorbar": {
              "outlinewidth": 1,
              "tickcolor": "rgb(36,36,36)",
              "ticks": "outside"
             }
            },
            "type": "scattergeo"
           }
          ],
          "scattergl": [
           {
            "marker": {
             "colorbar": {
              "outlinewidth": 1,
              "tickcolor": "rgb(36,36,36)",
              "ticks": "outside"
             }
            },
            "type": "scattergl"
           }
          ],
          "scattermapbox": [
           {
            "marker": {
             "colorbar": {
              "outlinewidth": 1,
              "tickcolor": "rgb(36,36,36)",
              "ticks": "outside"
             }
            },
            "type": "scattermapbox"
           }
          ],
          "scatterpolar": [
           {
            "marker": {
             "colorbar": {
              "outlinewidth": 1,
              "tickcolor": "rgb(36,36,36)",
              "ticks": "outside"
             }
            },
            "type": "scatterpolar"
           }
          ],
          "scatterpolargl": [
           {
            "marker": {
             "colorbar": {
              "outlinewidth": 1,
              "tickcolor": "rgb(36,36,36)",
              "ticks": "outside"
             }
            },
            "type": "scatterpolargl"
           }
          ],
          "scatterternary": [
           {
            "marker": {
             "colorbar": {
              "outlinewidth": 1,
              "tickcolor": "rgb(36,36,36)",
              "ticks": "outside"
             }
            },
            "type": "scatterternary"
           }
          ],
          "surface": [
           {
            "colorbar": {
             "outlinewidth": 1,
             "tickcolor": "rgb(36,36,36)",
             "ticks": "outside"
            },
            "colorscale": [
             [
              0,
              "#440154"
             ],
             [
              0.1111111111111111,
              "#482878"
             ],
             [
              0.2222222222222222,
              "#3e4989"
             ],
             [
              0.3333333333333333,
              "#31688e"
             ],
             [
              0.4444444444444444,
              "#26828e"
             ],
             [
              0.5555555555555556,
              "#1f9e89"
             ],
             [
              0.6666666666666666,
              "#35b779"
             ],
             [
              0.7777777777777778,
              "#6ece58"
             ],
             [
              0.8888888888888888,
              "#b5de2b"
             ],
             [
              1,
              "#fde725"
             ]
            ],
            "type": "surface"
           }
          ],
          "table": [
           {
            "cells": {
             "fill": {
              "color": "rgb(237,237,237)"
             },
             "line": {
              "color": "white"
             }
            },
            "header": {
             "fill": {
              "color": "rgb(217,217,217)"
             },
             "line": {
              "color": "white"
             }
            },
            "type": "table"
           }
          ]
         },
         "layout": {
          "annotationdefaults": {
           "arrowhead": 0,
           "arrowwidth": 1
          },
          "autotypenumbers": "strict",
          "coloraxis": {
           "colorbar": {
            "outlinewidth": 1,
            "tickcolor": "rgb(36,36,36)",
            "ticks": "outside"
           }
          },
          "colorscale": {
           "diverging": [
            [
             0,
             "rgb(103,0,31)"
            ],
            [
             0.1,
             "rgb(178,24,43)"
            ],
            [
             0.2,
             "rgb(214,96,77)"
            ],
            [
             0.3,
             "rgb(244,165,130)"
            ],
            [
             0.4,
             "rgb(253,219,199)"
            ],
            [
             0.5,
             "rgb(247,247,247)"
            ],
            [
             0.6,
             "rgb(209,229,240)"
            ],
            [
             0.7,
             "rgb(146,197,222)"
            ],
            [
             0.8,
             "rgb(67,147,195)"
            ],
            [
             0.9,
             "rgb(33,102,172)"
            ],
            [
             1,
             "rgb(5,48,97)"
            ]
           ],
           "sequential": [
            [
             0,
             "#440154"
            ],
            [
             0.1111111111111111,
             "#482878"
            ],
            [
             0.2222222222222222,
             "#3e4989"
            ],
            [
             0.3333333333333333,
             "#31688e"
            ],
            [
             0.4444444444444444,
             "#26828e"
            ],
            [
             0.5555555555555556,
             "#1f9e89"
            ],
            [
             0.6666666666666666,
             "#35b779"
            ],
            [
             0.7777777777777778,
             "#6ece58"
            ],
            [
             0.8888888888888888,
             "#b5de2b"
            ],
            [
             1,
             "#fde725"
            ]
           ],
           "sequentialminus": [
            [
             0,
             "#440154"
            ],
            [
             0.1111111111111111,
             "#482878"
            ],
            [
             0.2222222222222222,
             "#3e4989"
            ],
            [
             0.3333333333333333,
             "#31688e"
            ],
            [
             0.4444444444444444,
             "#26828e"
            ],
            [
             0.5555555555555556,
             "#1f9e89"
            ],
            [
             0.6666666666666666,
             "#35b779"
            ],
            [
             0.7777777777777778,
             "#6ece58"
            ],
            [
             0.8888888888888888,
             "#b5de2b"
            ],
            [
             1,
             "#fde725"
            ]
           ]
          },
          "colorway": [
           "#1F77B4",
           "#FF7F0E",
           "#2CA02C",
           "#D62728",
           "#9467BD",
           "#8C564B",
           "#E377C2",
           "#7F7F7F",
           "#BCBD22",
           "#17BECF"
          ],
          "font": {
           "color": "rgb(36,36,36)"
          },
          "geo": {
           "bgcolor": "white",
           "lakecolor": "white",
           "landcolor": "white",
           "showlakes": true,
           "showland": true,
           "subunitcolor": "white"
          },
          "hoverlabel": {
           "align": "left"
          },
          "hovermode": "closest",
          "mapbox": {
           "style": "light"
          },
          "paper_bgcolor": "white",
          "plot_bgcolor": "white",
          "polar": {
           "angularaxis": {
            "gridcolor": "rgb(232,232,232)",
            "linecolor": "rgb(36,36,36)",
            "showgrid": false,
            "showline": true,
            "ticks": "outside"
           },
           "bgcolor": "white",
           "radialaxis": {
            "gridcolor": "rgb(232,232,232)",
            "linecolor": "rgb(36,36,36)",
            "showgrid": false,
            "showline": true,
            "ticks": "outside"
           }
          },
          "scene": {
           "xaxis": {
            "backgroundcolor": "white",
            "gridcolor": "rgb(232,232,232)",
            "gridwidth": 2,
            "linecolor": "rgb(36,36,36)",
            "showbackground": true,
            "showgrid": false,
            "showline": true,
            "ticks": "outside",
            "zeroline": false,
            "zerolinecolor": "rgb(36,36,36)"
           },
           "yaxis": {
            "backgroundcolor": "white",
            "gridcolor": "rgb(232,232,232)",
            "gridwidth": 2,
            "linecolor": "rgb(36,36,36)",
            "showbackground": true,
            "showgrid": false,
            "showline": true,
            "ticks": "outside",
            "zeroline": false,
            "zerolinecolor": "rgb(36,36,36)"
           },
           "zaxis": {
            "backgroundcolor": "white",
            "gridcolor": "rgb(232,232,232)",
            "gridwidth": 2,
            "linecolor": "rgb(36,36,36)",
            "showbackground": true,
            "showgrid": false,
            "showline": true,
            "ticks": "outside",
            "zeroline": false,
            "zerolinecolor": "rgb(36,36,36)"
           }
          },
          "shapedefaults": {
           "fillcolor": "black",
           "line": {
            "width": 0
           },
           "opacity": 0.3
          },
          "ternary": {
           "aaxis": {
            "gridcolor": "rgb(232,232,232)",
            "linecolor": "rgb(36,36,36)",
            "showgrid": false,
            "showline": true,
            "ticks": "outside"
           },
           "baxis": {
            "gridcolor": "rgb(232,232,232)",
            "linecolor": "rgb(36,36,36)",
            "showgrid": false,
            "showline": true,
            "ticks": "outside"
           },
           "bgcolor": "white",
           "caxis": {
            "gridcolor": "rgb(232,232,232)",
            "linecolor": "rgb(36,36,36)",
            "showgrid": false,
            "showline": true,
            "ticks": "outside"
           }
          },
          "title": {
           "x": 0.05
          },
          "xaxis": {
           "automargin": true,
           "gridcolor": "rgb(232,232,232)",
           "linecolor": "rgb(36,36,36)",
           "showgrid": false,
           "showline": true,
           "ticks": "outside",
           "title": {
            "standoff": 15
           },
           "zeroline": false,
           "zerolinecolor": "rgb(36,36,36)"
          },
          "yaxis": {
           "automargin": true,
           "gridcolor": "rgb(232,232,232)",
           "linecolor": "rgb(36,36,36)",
           "showgrid": false,
           "showline": true,
           "ticks": "outside",
           "title": {
            "standoff": 15
           },
           "zeroline": false,
           "zerolinecolor": "rgb(36,36,36)"
          }
         }
        },
        "title": {
         "text": "Number of people killed in a traffic collisions, in Manhattan"
        },
        "width": 800,
        "xaxis": {
         "anchor": "y",
         "autorange": true,
         "domain": [
          0,
          1
         ],
         "range": [
          -0.6348753093470398,
          10.63487530934704
         ],
         "title": {
          "text": "Region"
         },
         "type": "category"
        },
        "yaxis": {
         "anchor": "x",
         "autorange": true,
         "domain": [
          0,
          1
         ],
         "range": [
          -87215236.54312809,
          1401195975.543128
         ],
         "title": {
          "text": "Population"
         },
         "type": "linear"
        }
       }
      },
      "image/png": "[encoded data removed]",
      "text/html": [
       "<div>                            <div id=\"428e7612-e444-47b1-a8e3-a43e47f95791\" class=\"plotly-graph-div\" style=\"height:700px; width:800px;\"></div>            <script type=\"text/javascript\">                require([\"plotly\"], function(Plotly) {                    window.PLOTLYENV=window.PLOTLYENV || {};                                    if (document.getElementById(\"428e7612-e444-47b1-a8e3-a43e47f95791\")) {                    Plotly.newPlot(                        \"428e7612-e444-47b1-a8e3-a43e47f95791\",                        [{\"hovertemplate\":\"Region=%{x}<br>Population=%{y}<extra></extra>\",\"legendgroup\":\"\",\"marker\":{\"color\":\"#1F77B4\",\"symbol\":\"circle\"},\"mode\":\"markers\",\"name\":\"\",\"orientation\":\"v\",\"showlegend\":false,\"x\":[\"ASIA (EX. NEAR EAST)         \",\"EASTERN EUROPE                     \",\"NORTHERN AFRICA                    \",\"OCEANIA                            \",\"WESTERN EUROPE                     \",\"SUB-SAHARAN AFRICA                 \",\"LATIN AMER. & CARIB    \",\"LATIN AMER. & CARIB    \",\"LATIN AMER. & CARIB    \",\"C.W. OF IND. STATES \",\"LATIN AMER. & CARIB    \",\"OCEANIA                            \",\"WESTERN EUROPE                     \",\"C.W. OF IND. STATES \",\"LATIN AMER. & CARIB    \",\"NEAR EAST                          \",\"ASIA (EX. NEAR EAST)         \",\"LATIN AMER. & CARIB    \",\"C.W. OF IND. STATES \",\"WESTERN EUROPE                     \",\"LATIN AMER. & CARIB    \",\"SUB-SAHARAN AFRICA                 \",\"NORTHERN AMERICA                   \",\"ASIA (EX. NEAR EAST)         \",\"LATIN AMER. & CARIB    \",\"EASTERN EUROPE                     \",\"SUB-SAHARAN AFRICA                 \",\"LATIN AMER. & CARIB    \",\"LATIN AMER. & CARIB    \",\"ASIA (EX. NEAR EAST)         \",\"EASTERN EUROPE                     \",\"SUB-SAHARAN AFRICA                 \",\"ASIA (EX. NEAR EAST)         \",\"SUB-SAHARAN AFRICA                 \",\"ASIA (EX. NEAR EAST)         \",\"SUB-SAHARAN AFRICA                 \",\"NORTHERN AMERICA                   \",\"SUB-SAHARAN AFRICA                 \",\"LATIN AMER. & CARIB    \",\"SUB-SAHARAN AFRICA                 \",\"SUB-SAHARAN AFRICA                 \",\"LATIN AMER. & CARIB    \",\"ASIA (EX. NEAR EAST)         \",\"LATIN AMER. & CARIB    \",\"SUB-SAHARAN AFRICA                 \",\"SUB-SAHARAN AFRICA                 \",\"SUB-SAHARAN AFRICA                 \",\"OCEANIA                            \",\"LATIN AMER. & CARIB    \",\"SUB-SAHARAN AFRICA                 \",\"EASTERN EUROPE                     \",\"LATIN AMER. & CARIB    \",\"NEAR EAST                          \",\"EASTERN EUROPE                     \",\"WESTERN EUROPE                     \",\"SUB-SAHARAN AFRICA                 \",\"LATIN AMER. & CARIB    \",\"LATIN AMER. & CARIB    \",\"ASIA (EX. NEAR EAST)         \",\"LATIN AMER. & CARIB    \",\"NORTHERN AFRICA                    \",\"LATIN AMER. & CARIB    \",\"SUB-SAHARAN AFRICA                 \",\"SUB-SAHARAN AFRICA                 \",\"BALTICS                            \",\"SUB-SAHARAN AFRICA                 \",\"WESTERN EUROPE                     \",\"OCEANIA                            \",\"WESTERN EUROPE                     \",\"WESTERN EUROPE                     \",\"LATIN AMER. & CARIB    \",\"OCEANIA                            \",\"SUB-SAHARAN AFRICA                 \",\"SUB-SAHARAN AFRICA                 \",\"NEAR EAST                          \",\"C.W. OF IND. STATES \",\"WESTERN EUROPE                     \",\"SUB-SAHARAN AFRICA                 \",\"WESTERN EUROPE                     \",\"WESTERN EUROPE                     \",\"NORTHERN AMERICA                   \",\"LATIN AMER. & CARIB    \",\"LATIN AMER. & CARIB    \",\"OCEANIA                            \",\"LATIN AMER. & CARIB    \",\"WESTERN EUROPE                     \",\"SUB-SAHARAN AFRICA                 \",\"SUB-SAHARAN AFRICA                 \",\"LATIN AMER. & CARIB    \",\"LATIN AMER. & CARIB    \",\"LATIN AMER. & CARIB    \",\"ASIA (EX. NEAR EAST)         \",\"EASTERN EUROPE                     \",\"WESTERN EUROPE                     \",\"ASIA (EX. NEAR EAST)         \",\"ASIA (EX. NEAR EAST)         \",\"ASIA (EX. NEAR EAST)         \",\"NEAR EAST                          \",\"WESTERN EUROPE                     \",\"WESTERN EUROPE                     \",\"NEAR EAST                          \",\"WESTERN EUROPE                     \",\"LATIN AMER. & CARIB    \",\"ASIA (EX. NEAR EAST)         \",\"WESTERN EUROPE                     \",\"NEAR EAST                          \",\"C.W. OF IND. STATES \",\"SUB-SAHARAN AFRICA                 \",\"OCEANIA                            \",\"ASIA (EX. NEAR EAST)         \",\"ASIA (EX. NEAR EAST)         \",\"NEAR EAST                          \",\"C.W. OF IND. STATES \",\"ASIA (EX. NEAR EAST)         \",\"BALTICS                            \",\"NEAR EAST                          \",\"SUB-SAHARAN AFRICA                 \",\"SUB-SAHARAN AFRICA                 \",\"NORTHERN AFRICA                    \",\"WESTERN EUROPE                     \",\"BALTICS                            \",\"WESTERN EUROPE                     \",\"ASIA (EX. NEAR EAST)         \",\"EASTERN EUROPE                     \",\"SUB-SAHARAN AFRICA                 \",\"SUB-SAHARAN AFRICA                 \",\"ASIA (EX. NEAR EAST)         \",\"ASIA (EX. NEAR EAST)         \",\"SUB-SAHARAN AFRICA                 \",\"WESTERN EUROPE                     \",\"OCEANIA                            \",\"LATIN AMER. & CARIB    \",\"SUB-SAHARAN AFRICA                 \",\"SUB-SAHARAN AFRICA                 \",\"SUB-SAHARAN AFRICA                 \",\"LATIN AMER. & CARIB    \",\"OCEANIA                            \",\"C.W. OF IND. STATES \",\"WESTERN EUROPE                     \",\"ASIA (EX. NEAR EAST)         \",\"LATIN AMER. & CARIB    \",\"NORTHERN AFRICA                    \",\"SUB-SAHARAN AFRICA                 \",\"SUB-SAHARAN AFRICA                 \",\"OCEANIA                            \",\"ASIA (EX. NEAR EAST)         \",\"WESTERN EUROPE                     \",\"LATIN AMER. & CARIB    \",\"OCEANIA                            \",\"OCEANIA                            \",\"LATIN AMER. & CARIB    \",\"SUB-SAHARAN AFRICA                 \",\"SUB-SAHARAN AFRICA                 \",\"OCEANIA                            \",\"WESTERN EUROPE                     \",\"NEAR EAST                          \",\"ASIA (EX. NEAR EAST)         \",\"OCEANIA                            \",\"LATIN AMER. & CARIB    \",\"OCEANIA                            \",\"LATIN AMER. & CARIB    \",\"LATIN AMER. & CARIB    \",\"ASIA (EX. NEAR EAST)         \",\"EASTERN EUROPE                     \",\"WESTERN EUROPE                     \",\"LATIN AMER. & CARIB    \",\"NEAR EAST                          \",\"SUB-SAHARAN AFRICA                 \",\"EASTERN EUROPE                     \",\"C.W. OF IND. STATES \",\"SUB-SAHARAN AFRICA                 \",\"SUB-SAHARAN AFRICA                 \",\"LATIN AMER. & CARIB    \",\"LATIN AMER. & CARIB    \",\"NORTHERN AMERICA                   \",\"LATIN AMER. & CARIB    \",\"OCEANIA                            \",\"WESTERN EUROPE                     \",\"SUB-SAHARAN AFRICA                 \",\"NEAR EAST                          \",\"SUB-SAHARAN AFRICA                 \",\"EASTERN EUROPE                     \",\"SUB-SAHARAN AFRICA                 \",\"SUB-SAHARAN AFRICA                 \",\"ASIA (EX. NEAR EAST)         \",\"EASTERN EUROPE                     \",\"EASTERN EUROPE                     \",\"OCEANIA                            \",\"SUB-SAHARAN AFRICA                 \",\"SUB-SAHARAN AFRICA                 \",\"WESTERN EUROPE                     \",\"ASIA (EX. NEAR EAST)         \",\"SUB-SAHARAN AFRICA                 \",\"LATIN AMER. & CARIB    \",\"SUB-SAHARAN AFRICA                 \",\"WESTERN EUROPE                     \",\"WESTERN EUROPE                     \",\"NEAR EAST                          \",\"ASIA (EX. NEAR EAST)         \",\"C.W. OF IND. STATES \",\"SUB-SAHARAN AFRICA                 \",\"ASIA (EX. NEAR EAST)         \",\"SUB-SAHARAN AFRICA                 \",\"OCEANIA                            \",\"LATIN AMER. & CARIB    \",\"NORTHERN AFRICA                    \",\"NEAR EAST                          \",\"C.W. OF IND. STATES \",\"LATIN AMER. & CARIB    \",\"OCEANIA                            \",\"SUB-SAHARAN AFRICA                 \",\"C.W. OF IND. STATES \",\"NEAR EAST                          \",\"WESTERN EUROPE                     \",\"NORTHERN AMERICA                   \",\"LATIN AMER. & CARIB    \",\"C.W. OF IND. STATES \",\"OCEANIA                            \",\"LATIN AMER. & CARIB    \",\"ASIA (EX. NEAR EAST)         \",\"LATIN AMER. & CARIB    \",\"OCEANIA                            \",\"NEAR EAST                          \",\"NORTHERN AFRICA                    \",\"NEAR EAST                          \",\"SUB-SAHARAN AFRICA                 \",\"SUB-SAHARAN AFRICA                 \"],\"xaxis\":\"x\",\"y\":[31056997,3581655,32930091,57794,71201,12127071,13477,69108,39921833,2976372,71891,20264082,8192880,7961619,303770,698585,147365352,279912,10293011,10379067,287730,7862944,65773,2279723,8989046,4498976,1639833,188078227,23098,379444,7385367,13902972,47382633,8090068,13881427,17340702,33098932,420979,45436,4303356,9944201,16134219,1313973713,43593035,690948,62660551,3702314,21388,4075261,17654843,4494749,11382820,784301,10235455,5450661,486530,68910,9183984,1062777,13547510,78887007,6822378,540109,4786994,1324333,74777981,47246,905949,5231372,60876136,199509,274578,1424906,1641564,1428757,4661473,82422299,22409572,27928,10688058,56361,89703,452776,171019,12293545,65409,9690222,1442029,767245,8308504,7326496,6940432,9981334,299388,1095351995,245452739,68688433,26783383,4062235,75441,6352117,58133509,2758124,127463611,91084,5906760,15233244,34707817,105432,23113019,48846823,2418393,5213898,6368481,2274735,3874050,2022331,3042004,5900754,33987,3585906,474413,453125,2050554,18595469,13013926,24385858,359008,11716829,400214,60422,436131,3177388,1240827,201234,107449525,108004,4466706,32543,2832224,9439,33241259,19686505,2044147,13287,28287147,16491461,221736,219246,4076140,5570129,12525094,131859731,82459,4610820,3102229,165803560,20579,3191319,5670544,6506464,28302603,89468677,38536869,10605870,3927188,885359,787584,22303552,142893540,8648248,7502,39129,168458,7026,117848,176908,29251,193413,27019731,11987121,9396411,81541,6005250,4492150,5439448,2010347,552438,8863338,44187637,40397842,20222240,41236378,439117,1136334,9016596,7523934,18881361,23036087,7320815,37445392,64631595,5548702,114689,1065842,10175014,70413958,5042920,21152,11810,28195754,46710816,2602713,60609153,298444215,3431932,27307134,208869,25730435,84402966,108605,16025,2460492,273008,21456188,11502010,12236805],\"yaxis\":\"y\",\"type\":\"scatter\",\"textposition\":\"top center\"}],                        {\"template\":{\"data\":{\"barpolar\":[{\"marker\":{\"line\":{\"color\":\"white\",\"width\":0.5},\"pattern\":{\"fillmode\":\"overlay\",\"size\":10,\"solidity\":0.2}},\"type\":\"barpolar\"}],\"bar\":[{\"error_x\":{\"color\":\"rgb(36,36,36)\"},\"error_y\":{\"color\":\"rgb(36,36,36)\"},\"marker\":{\"line\":{\"color\":\"white\",\"width\":0.5},\"pattern\":{\"fillmode\":\"overlay\",\"size\":10,\"solidity\":0.2}},\"type\":\"bar\"}],\"carpet\":[{\"aaxis\":{\"endlinecolor\":\"rgb(36,36,36)\",\"gridcolor\":\"white\",\"linecolor\":\"white\",\"minorgridcolor\":\"white\",\"startlinecolor\":\"rgb(36,36,36)\"},\"baxis\":{\"endlinecolor\":\"rgb(36,36,36)\",\"gridcolor\":\"white\",\"linecolor\":\"white\",\"minorgridcolor\":\"white\",\"startlinecolor\":\"rgb(36,36,36)\"},\"type\":\"carpet\"}],\"choropleth\":[{\"colorbar\":{\"outlinewidth\":1,\"tickcolor\":\"rgb(36,36,36)\",\"ticks\":\"outside\"},\"type\":\"choropleth\"}],\"contourcarpet\":[{\"colorbar\":{\"outlinewidth\":1,\"tickcolor\":\"rgb(36,36,36)\",\"ticks\":\"outside\"},\"type\":\"contourcarpet\"}],\"contour\":[{\"colorbar\":{\"outlinewidth\":1,\"tickcolor\":\"rgb(36,36,36)\",\"ticks\":\"outside\"},\"colorscale\":[[0.0,\"#440154\"],[0.1111111111111111,\"#482878\"],[0.2222222222222222,\"#3e4989\"],[0.3333333333333333,\"#31688e\"],[0.4444444444444444,\"#26828e\"],[0.5555555555555556,\"#1f9e89\"],[0.6666666666666666,\"#35b779\"],[0.7777777777777778,\"#6ece58\"],[0.8888888888888888,\"#b5de2b\"],[1.0,\"#fde725\"]],\"type\":\"contour\"}],\"heatmapgl\":[{\"colorbar\":{\"outlinewidth\":1,\"tickcolor\":\"rgb(36,36,36)\",\"ticks\":\"outside\"},\"colorscale\":[[0.0,\"#440154\"],[0.1111111111111111,\"#482878\"],[0.2222222222222222,\"#3e4989\"],[0.3333333333333333,\"#31688e\"],[0.4444444444444444,\"#26828e\"],[0.5555555555555556,\"#1f9e89\"],[0.6666666666666666,\"#35b779\"],[0.7777777777777778,\"#6ece58\"],[0.8888888888888888,\"#b5de2b\"],[1.0,\"#fde725\"]],\"type\":\"heatmapgl\"}],\"heatmap\":[{\"colorbar\":{\"outlinewidth\":1,\"tickcolor\":\"rgb(36,36,36)\",\"ticks\":\"outside\"},\"colorscale\":[[0.0,\"#440154\"],[0.1111111111111111,\"#482878\"],[0.2222222222222222,\"#3e4989\"],[0.3333333333333333,\"#31688e\"],[0.4444444444444444,\"#26828e\"],[0.5555555555555556,\"#1f9e89\"],[0.6666666666666666,\"#35b779\"],[0.7777777777777778,\"#6ece58\"],[0.8888888888888888,\"#b5de2b\"],[1.0,\"#fde725\"]],\"type\":\"heatmap\"}],\"histogram2dcontour\":[{\"colorbar\":{\"outlinewidth\":1,\"tickcolor\":\"rgb(36,36,36)\",\"ticks\":\"outside\"},\"colorscale\":[[0.0,\"#440154\"],[0.1111111111111111,\"#482878\"],[0.2222222222222222,\"#3e4989\"],[0.3333333333333333,\"#31688e\"],[0.4444444444444444,\"#26828e\"],[0.5555555555555556,\"#1f9e89\"],[0.6666666666666666,\"#35b779\"],[0.7777777777777778,\"#6ece58\"],[0.8888888888888888,\"#b5de2b\"],[1.0,\"#fde725\"]],\"type\":\"histogram2dcontour\"}],\"histogram2d\":[{\"colorbar\":{\"outlinewidth\":1,\"tickcolor\":\"rgb(36,36,36)\",\"ticks\":\"outside\"},\"colorscale\":[[0.0,\"#440154\"],[0.1111111111111111,\"#482878\"],[0.2222222222222222,\"#3e4989\"],[0.3333333333333333,\"#31688e\"],[0.4444444444444444,\"#26828e\"],[0.5555555555555556,\"#1f9e89\"],[0.6666666666666666,\"#35b779\"],[0.7777777777777778,\"#6ece58\"],[0.8888888888888888,\"#b5de2b\"],[1.0,\"#fde725\"]],\"type\":\"histogram2d\"}],\"histogram\":[{\"marker\":{\"line\":{\"color\":\"white\",\"width\":0.6}},\"type\":\"histogram\"}],\"mesh3d\":[{\"colorbar\":{\"outlinewidth\":1,\"tickcolor\":\"rgb(36,36,36)\",\"ticks\":\"outside\"},\"type\":\"mesh3d\"}],\"parcoords\":[{\"line\":{\"colorbar\":{\"outlinewidth\":1,\"tickcolor\":\"rgb(36,36,36)\",\"ticks\":\"outside\"}},\"type\":\"parcoords\"}],\"pie\":[{\"automargin\":true,\"type\":\"pie\"}],\"scatter3d\":[{\"line\":{\"colorbar\":{\"outlinewidth\":1,\"tickcolor\":\"rgb(36,36,36)\",\"ticks\":\"outside\"}},\"marker\":{\"colorbar\":{\"outlinewidth\":1,\"tickcolor\":\"rgb(36,36,36)\",\"ticks\":\"outside\"}},\"type\":\"scatter3d\"}],\"scattercarpet\":[{\"marker\":{\"colorbar\":{\"outlinewidth\":1,\"tickcolor\":\"rgb(36,36,36)\",\"ticks\":\"outside\"}},\"type\":\"scattercarpet\"}],\"scattergeo\":[{\"marker\":{\"colorbar\":{\"outlinewidth\":1,\"tickcolor\":\"rgb(36,36,36)\",\"ticks\":\"outside\"}},\"type\":\"scattergeo\"}],\"scattergl\":[{\"marker\":{\"colorbar\":{\"outlinewidth\":1,\"tickcolor\":\"rgb(36,36,36)\",\"ticks\":\"outside\"}},\"type\":\"scattergl\"}],\"scattermapbox\":[{\"marker\":{\"colorbar\":{\"outlinewidth\":1,\"tickcolor\":\"rgb(36,36,36)\",\"ticks\":\"outside\"}},\"type\":\"scattermapbox\"}],\"scatterpolargl\":[{\"marker\":{\"colorbar\":{\"outlinewidth\":1,\"tickcolor\":\"rgb(36,36,36)\",\"ticks\":\"outside\"}},\"type\":\"scatterpolargl\"}],\"scatterpolar\":[{\"marker\":{\"colorbar\":{\"outlinewidth\":1,\"tickcolor\":\"rgb(36,36,36)\",\"ticks\":\"outside\"}},\"type\":\"scatterpolar\"}],\"scatter\":[{\"fillpattern\":{\"fillmode\":\"overlay\",\"size\":10,\"solidity\":0.2},\"type\":\"scatter\"}],\"scatterternary\":[{\"marker\":{\"colorbar\":{\"outlinewidth\":1,\"tickcolor\":\"rgb(36,36,36)\",\"ticks\":\"outside\"}},\"type\":\"scatterternary\"}],\"surface\":[{\"colorbar\":{\"outlinewidth\":1,\"tickcolor\":\"rgb(36,36,36)\",\"ticks\":\"outside\"},\"colorscale\":[[0.0,\"#440154\"],[0.1111111111111111,\"#482878\"],[0.2222222222222222,\"#3e4989\"],[0.3333333333333333,\"#31688e\"],[0.4444444444444444,\"#26828e\"],[0.5555555555555556,\"#1f9e89\"],[0.6666666666666666,\"#35b779\"],[0.7777777777777778,\"#6ece58\"],[0.8888888888888888,\"#b5de2b\"],[1.0,\"#fde725\"]],\"type\":\"surface\"}],\"table\":[{\"cells\":{\"fill\":{\"color\":\"rgb(237,237,237)\"},\"line\":{\"color\":\"white\"}},\"header\":{\"fill\":{\"color\":\"rgb(217,217,217)\"},\"line\":{\"color\":\"white\"}},\"type\":\"table\"}]},\"layout\":{\"annotationdefaults\":{\"arrowhead\":0,\"arrowwidth\":1},\"autotypenumbers\":\"strict\",\"coloraxis\":{\"colorbar\":{\"outlinewidth\":1,\"tickcolor\":\"rgb(36,36,36)\",\"ticks\":\"outside\"}},\"colorscale\":{\"diverging\":[[0.0,\"rgb(103,0,31)\"],[0.1,\"rgb(178,24,43)\"],[0.2,\"rgb(214,96,77)\"],[0.3,\"rgb(244,165,130)\"],[0.4,\"rgb(253,219,199)\"],[0.5,\"rgb(247,247,247)\"],[0.6,\"rgb(209,229,240)\"],[0.7,\"rgb(146,197,222)\"],[0.8,\"rgb(67,147,195)\"],[0.9,\"rgb(33,102,172)\"],[1.0,\"rgb(5,48,97)\"]],\"sequential\":[[0.0,\"#440154\"],[0.1111111111111111,\"#482878\"],[0.2222222222222222,\"#3e4989\"],[0.3333333333333333,\"#31688e\"],[0.4444444444444444,\"#26828e\"],[0.5555555555555556,\"#1f9e89\"],[0.6666666666666666,\"#35b779\"],[0.7777777777777778,\"#6ece58\"],[0.8888888888888888,\"#b5de2b\"],[1.0,\"#fde725\"]],\"sequentialminus\":[[0.0,\"#440154\"],[0.1111111111111111,\"#482878\"],[0.2222222222222222,\"#3e4989\"],[0.3333333333333333,\"#31688e\"],[0.4444444444444444,\"#26828e\"],[0.5555555555555556,\"#1f9e89\"],[0.6666666666666666,\"#35b779\"],[0.7777777777777778,\"#6ece58\"],[0.8888888888888888,\"#b5de2b\"],[1.0,\"#fde725\"]]},\"colorway\":[\"#1F77B4\",\"#FF7F0E\",\"#2CA02C\",\"#D62728\",\"#9467BD\",\"#8C564B\",\"#E377C2\",\"#7F7F7F\",\"#BCBD22\",\"#17BECF\"],\"font\":{\"color\":\"rgb(36,36,36)\"},\"geo\":{\"bgcolor\":\"white\",\"lakecolor\":\"white\",\"landcolor\":\"white\",\"showlakes\":true,\"showland\":true,\"subunitcolor\":\"white\"},\"hoverlabel\":{\"align\":\"left\"},\"hovermode\":\"closest\",\"mapbox\":{\"style\":\"light\"},\"paper_bgcolor\":\"white\",\"plot_bgcolor\":\"white\",\"polar\":{\"angularaxis\":{\"gridcolor\":\"rgb(232,232,232)\",\"linecolor\":\"rgb(36,36,36)\",\"showgrid\":false,\"showline\":true,\"ticks\":\"outside\"},\"bgcolor\":\"white\",\"radialaxis\":{\"gridcolor\":\"rgb(232,232,232)\",\"linecolor\":\"rgb(36,36,36)\",\"showgrid\":false,\"showline\":true,\"ticks\":\"outside\"}},\"scene\":{\"xaxis\":{\"backgroundcolor\":\"white\",\"gridcolor\":\"rgb(232,232,232)\",\"gridwidth\":2,\"linecolor\":\"rgb(36,36,36)\",\"showbackground\":true,\"showgrid\":false,\"showline\":true,\"ticks\":\"outside\",\"zeroline\":false,\"zerolinecolor\":\"rgb(36,36,36)\"},\"yaxis\":{\"backgroundcolor\":\"white\",\"gridcolor\":\"rgb(232,232,232)\",\"gridwidth\":2,\"linecolor\":\"rgb(36,36,36)\",\"showbackground\":true,\"showgrid\":false,\"showline\":true,\"ticks\":\"outside\",\"zeroline\":false,\"zerolinecolor\":\"rgb(36,36,36)\"},\"zaxis\":{\"backgroundcolor\":\"white\",\"gridcolor\":\"rgb(232,232,232)\",\"gridwidth\":2,\"linecolor\":\"rgb(36,36,36)\",\"showbackground\":true,\"showgrid\":false,\"showline\":true,\"ticks\":\"outside\",\"zeroline\":false,\"zerolinecolor\":\"rgb(36,36,36)\"}},\"shapedefaults\":{\"fillcolor\":\"black\",\"line\":{\"width\":0},\"opacity\":0.3},\"ternary\":{\"aaxis\":{\"gridcolor\":\"rgb(232,232,232)\",\"linecolor\":\"rgb(36,36,36)\",\"showgrid\":false,\"showline\":true,\"ticks\":\"outside\"},\"baxis\":{\"gridcolor\":\"rgb(232,232,232)\",\"linecolor\":\"rgb(36,36,36)\",\"showgrid\":false,\"showline\":true,\"ticks\":\"outside\"},\"bgcolor\":\"white\",\"caxis\":{\"gridcolor\":\"rgb(232,232,232)\",\"linecolor\":\"rgb(36,36,36)\",\"showgrid\":false,\"showline\":true,\"ticks\":\"outside\"}},\"title\":{\"x\":0.05},\"xaxis\":{\"automargin\":true,\"gridcolor\":\"rgb(232,232,232)\",\"linecolor\":\"rgb(36,36,36)\",\"showgrid\":false,\"showline\":true,\"ticks\":\"outside\",\"title\":{\"standoff\":15},\"zeroline\":false,\"zerolinecolor\":\"rgb(36,36,36)\"},\"yaxis\":{\"automargin\":true,\"gridcolor\":\"rgb(232,232,232)\",\"linecolor\":\"rgb(36,36,36)\",\"showgrid\":false,\"showline\":true,\"ticks\":\"outside\",\"title\":{\"standoff\":15},\"zeroline\":false,\"zerolinecolor\":\"rgb(36,36,36)\"}}},\"xaxis\":{\"anchor\":\"y\",\"domain\":[0.0,1.0],\"title\":{\"text\":\"Region\"}},\"yaxis\":{\"anchor\":\"x\",\"domain\":[0.0,1.0],\"title\":{\"text\":\"Population\"}},\"legend\":{\"tracegroupgap\":0},\"title\":{\"text\":\"Number of people killed in a traffic collisions, in Manhattan\"},\"height\":700,\"width\":800},                        {\"responsive\": true}                    ).then(function(){\n",
       "                            \n",
       "var gd = document.getElementById('428e7612-e444-47b1-a8e3-a43e47f95791');\n",
       "var x = new MutationObserver(function (mutations, observer) {{\n",
       "        var display = window.getComputedStyle(gd).display;\n",
       "        if (!display || display === 'none') {{\n",
       "            console.log([gd, 'removed!']);\n",
       "            Plotly.purge(gd);\n",
       "            observer.disconnect();\n",
       "        }}\n",
       "}});\n",
       "\n",
       "// Listen for the removal of the full notebook cells\n",
       "var notebookContainer = gd.closest('#notebook-container');\n",
       "if (notebookContainer) {{\n",
       "    x.observe(notebookContainer, {childList: true});\n",
       "}}\n",
       "\n",
       "// Listen for the clearing of the current output cell\n",
       "var outputEl = gd.closest('.output');\n",
       "if (outputEl) {{\n",
       "    x.observe(outputEl, {childList: true});\n",
       "}}\n",
       "\n",
       "                        })                };                });            </script>        </div>"
      ]
     },
     "metadata": {},
     "output_type": "display_data"
    }
   ],
   "source": [
    "# filtering the dataframe\n",
    "\n",
    "# Creating a scatterplot\n",
    "scatter = px.scatter(df, x = 'Region', y = 'Population', title = 'Number of people killed in a traffic collisions, in Manhattan', \n",
    "                        template = 'simple_white', height = 700, width = 800)\n",
    "\n",
    "scatter.update_traces(textposition= 'top center')\n",
    "scatter"
   ]
  },
  {
   "cell_type": "code",
   "execution_count": null,
   "id": "5107161b-32d7-42ca-95f7-00dd403a054a",
   "metadata": {},
   "outputs": [],
   "source": []
  }
 ],
 "metadata": {
  "kernelspec": {
   "display_name": "Python 3 (ipykernel)",
   "language": "python",
   "name": "python3"
  },
  "language_info": {
   "codemirror_mode": {
    "name": "ipython",
    "version": 3
   },
   "file_extension": ".py",
   "mimetype": "text/x-python",
   "name": "python",
   "nbconvert_exporter": "python",
   "pygments_lexer": "ipython3",
   "version": "3.11.4"
  }
 },
 "nbformat": 4,
 "nbformat_minor": 5
}
