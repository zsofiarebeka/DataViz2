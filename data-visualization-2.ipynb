{
 "cells": [
  {
   "cell_type": "markdown",
   "id": "afb2cdae-bdf5-4ce5-9f9e-8bb6644a27ff",
   "metadata": {},
   "source": [
    "# Data Visulaization 2 Assignment\n",
    "\n",
    "About the dataset:\n",
    "\n"
   ]
  },
  {
   "cell_type": "code",
   "execution_count": 1,
   "id": "95076546-f28a-4da8-b54f-dde84fe6a1a7",
   "metadata": {},
   "outputs": [],
   "source": [
    "# Importing required libraries\n",
    "from dash import Dash \n",
    "# dcc includes Graphs\n",
    "from dash import html, dcc \n",
    "# for the interactive part:\n",
    "from dash import callback, Output, Input\n",
    "import plotly.express as px"
   ]
  },
  {
   "cell_type": "code",
   "execution_count": null,
   "id": "dfad7cad-f90f-4b6f-adb2-b9023dccc179",
   "metadata": {},
   "outputs": [],
   "source": [
    "# Importing the dataset\n",
    "df = pd.read\n",
    "\n",
    "# checking it out\n",
    "df_gap.head()"
   ]
  }
 ],
 "metadata": {
  "kernelspec": {
   "display_name": "Python 3 (ipykernel)",
   "language": "python",
   "name": "python3"
  },
  "language_info": {
   "codemirror_mode": {
    "name": "ipython",
    "version": 3
   },
   "file_extension": ".py",
   "mimetype": "text/x-python",
   "name": "python",
   "nbconvert_exporter": "python",
   "pygments_lexer": "ipython3",
   "version": "3.11.4"
  }
 },
 "nbformat": 4,
 "nbformat_minor": 5
}
